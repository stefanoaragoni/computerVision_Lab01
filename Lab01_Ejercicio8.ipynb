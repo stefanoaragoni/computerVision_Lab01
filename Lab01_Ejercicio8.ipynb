{
 "cells": [
  {
   "cell_type": "markdown",
   "metadata": {},
   "source": [
    "## ***Visión por Computadora - 2024***\n",
    "### *Lab 01 - Ejercicio 8*\n",
    "\n",
    "Stefano Aragoni, Carol Arévalo, José González, Luis Santos\n",
    "\n",
    "-----------\n"
   ]
  },
  {
   "cell_type": "markdown",
   "metadata": {},
   "source": [
    "8. Para cada uno de los resultados (a)-(d), determinar cuál debe ser el elemento estructurante y la operación morfológica que se debe aplicar a la imagen inicial, para obtener cada resultado."
   ]
  },
  {
   "cell_type": "markdown",
   "metadata": {},
   "source": [
    "-------\n",
    "\n",
    "#### *Importar librerías*\n",
    "\n",
    "Como primer paso, se importan las librerías necesarias para el desarrollo del ejercicio."
   ]
  },
  {
   "cell_type": "code",
   "execution_count": 420,
   "metadata": {},
   "outputs": [],
   "source": [
    "import numpy as np\n",
    "import cv2\n",
    "import matplotlib.pyplot as plt\n",
    "\n",
    "from skimage import morphology\n",
    "from skimage.io import imread\n",
    "from skimage.color import rgb2gray\n",
    "from skimage.util import invert\n",
    "from skimage.filters import threshold_otsu, gaussian\n",
    "from skimage.morphology import binary_opening, binary_closing, binary_dilation, binary_erosion\n",
    "from skimage import io, color, filters, feature, morphology, exposure, util\n",
    "\n",
    "from skimage.measure import label, regionprops\n",
    "from skimage.color import label2rgb\n",
    "from scipy import ndimage"
   ]
  }
 ],
 "metadata": {
  "kernelspec": {
   "display_name": "Python 3",
   "language": "python",
   "name": "python3"
  },
  "language_info": {
   "codemirror_mode": {
    "name": "ipython",
    "version": 3
   },
   "file_extension": ".py",
   "mimetype": "text/x-python",
   "name": "python",
   "nbconvert_exporter": "python",
   "pygments_lexer": "ipython3",
   "version": "3.9.2"
  }
 },
 "nbformat": 4,
 "nbformat_minor": 2
}
