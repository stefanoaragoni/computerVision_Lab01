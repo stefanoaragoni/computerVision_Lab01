{
 "cells": [
  {
   "cell_type": "markdown",
   "metadata": {},
   "source": [
    "## ***Visión por Computadora - 2024***\n",
    "### *Lab 01 - Ejercicio 7*\n",
    "\n",
    "Stefano Aragoni, Carol Arévalo, José González, Luis Santos\n",
    "\n",
    "-----------\n"
   ]
  },
  {
   "cell_type": "markdown",
   "metadata": {},
   "source": [
    "\n",
    "#### *Importar librerías*\n",
    "\n",
    "Como primer paso, se importa numpy, cv2, y matplotlib."
   ]
  },
  {
   "cell_type": "code",
   "execution_count": 1,
   "metadata": {},
   "outputs": [],
   "source": [
    "import numpy as np\n",
    "import cv2\n",
    "import matplotlib.pyplot as plt"
   ]
  },
  {
   "cell_type": "markdown",
   "metadata": {},
   "source": [
    "Aplicar diferentes operaciones morfologicas a las siguientes imagenes en escala de grises (si la imagen no esta en grises,\n",
    "primero convertir a escala de grises): butterfly.jpeg, quetzalgris.png, chestXray.jpeg."
   ]
  }
 ],
 "metadata": {
  "kernelspec": {
   "display_name": "Python 3",
   "language": "python",
   "name": "python3"
  },
  "language_info": {
   "codemirror_mode": {
    "name": "ipython",
    "version": 3
   },
   "file_extension": ".py",
   "mimetype": "text/x-python",
   "name": "python",
   "nbconvert_exporter": "python",
   "pygments_lexer": "ipython3",
   "version": "3.11.4"
  }
 },
 "nbformat": 4,
 "nbformat_minor": 2
}
