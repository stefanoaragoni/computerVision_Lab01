{
 "cells": [
  {
   "cell_type": "markdown",
   "metadata": {},
   "source": [
    "## ***Visión por Computadora - 2024***\n",
    "### *Lab 01 - Ejercicio 1*\n",
    "\n",
    "Stefano Aragoni, Carol Arévalo, José González, Luis Santos\n",
    "\n",
    "-----------\n",
    "\n",
    "Leer la sección 9.4 sobre el operador Hit or Miss. Explicar con sus propias palabras cómo funciona este operador, y cómo se construye la operación A ∗ B a partir de las operaciones básicas de dilatación, erosión, opening, closing y diferencia.\n",
    "\n",
    "Mostrar un ejemplo con una imagen binaria de su elección en donde se muestre que el operador Hit or Miss detecta la localización de un (o varios) objetos específicos dentro de una imagen binaria I."
   ]
  },
  {
   "cell_type": "markdown",
   "metadata": {},
   "source": [
    "------------\n",
    "\n",
    "#### *Importar librerías*\n",
    "\n",
    "Como primer paso, se importa numpy, cv2, y matplotlib."
   ]
  },
  {
   "cell_type": "code",
   "execution_count": 1,
   "metadata": {},
   "outputs": [],
   "source": [
    "import numpy as np\n",
    "import cv2\n",
    "import matplotlib.pyplot as plt"
   ]
  },
  {
   "cell_type": "markdown",
   "metadata": {},
   "source": [
    "#### *Operador Hit or Miss*\n",
    "\n",
    "El operador Hit or Miss es una herramienta de morfología matemática utilizada en el procesamiento de imágenes, especialmente útil en imágenes binarias. Este operador es capaz de identificar patrones específicos en una imagen. Funciona utilizando dos estructuras de elementos: uno para el \"hit\" (golpe) y otro para el \"miss\" (fallo).\n",
    "\n",
    "\n",
    "El operador se define de la siguiente manera: \n",
    "A⊗B = (A⊖B_1) ∩ (A^c ⊖B_2)\n",
    "\n",
    "Donde:\n",
    "- A es la imagen original.\n",
    "- B = (B_1, B_2), es una pareja de elementos estructurantes, donde B_1 es usado para la erosión de A y B_2 es usado para la erosión del complemento de A (A^c)\n",
    "- ⊖ representa la operación de erosión.\n",
    "- ∩ representa la intersección de dos conjuntos.\n",
    "\n",
    "En términos más simples, el operador busca donde la estructura B_1 encaja dentro de la imagen A (hit) y donde la estructura \n",
    "B_2 no encaja en el complemento de A (miss). El resultado es un conjunto de puntos donde ambos condiciones son verdaderas. "
   ]
  },
  {
   "cell_type": "markdown",
   "metadata": {},
   "source": [
    "Codigo basado en algoriutmo de GeeksForGeeks: https://www.geeksforgeeks.org/mahotas-hit-miss-transform/"
   ]
  },
  {
   "cell_type": "code",
   "execution_count": 5,
   "metadata": {},
   "outputs": [
    {
     "data": {
      "image/png": "[encoded data removed]",
      "text/plain": [
       "<Figure size 640x480 with 2 Axes>"
      ]
     },
     "metadata": {},
     "output_type": "display_data"
    }
   ],
   "source": [
    "def erode(image, structure):\n",
    "    s_center = (structure.shape[0] // 2, structure.shape[1] // 2)\n",
    "    output = np.zeros_like(image)\n",
    "\n",
    "    for i in range(image.shape[0]):\n",
    "        for j in range(image.shape[1]):\n",
    "            neighbors = [(i + di - s_center[0], j + dj - s_center[1]) \n",
    "                         for di in range(structure.shape[0]) \n",
    "                         for dj in range(structure.shape[1]) \n",
    "                         if structure[di, dj] == 1]\n",
    "\n",
    "            output[i, j] = all(image[x, y] == 1 if 0 <= x < image.shape[0] and 0 <= y < image.shape[1] else False \n",
    "                               for x, y in neighbors)\n",
    "\n",
    "    return output\n",
    "\n",
    "def hit_and_miss(image, structure1, structure2):\n",
    "\n",
    "    eroded1 = erode(image, structure1)\n",
    "    eroded2 = erode(1 - image, structure2)\n",
    "    return np.logical_and(eroded1, eroded2)\n",
    "\n",
    "# Crear imagen y elementos estructurantes\n",
    "regions = np.zeros((10, 10), bool)\n",
    "regions[1, :2] = 1\n",
    "regions[5:8, 6:8] = 1\n",
    "regions[8, 0] = 1\n",
    "\n",
    "# Elemento estructurante para \"hit\"\n",
    "template1 = np.array([[0, 1, 1], [0, 1, 1], [0, 1, 1]])\n",
    "\n",
    "# Elemento estructurante para \"miss\"\n",
    "template2 = 1 - template1\n",
    "\n",
    "# Aplicar transformación de hit-and-miss\n",
    "result = hit_and_miss(regions, template1, template2)\n",
    "\n",
    "# Visualizar la imagen original\n",
    "plt.subplot(1, 2, 1)\n",
    "plt.imshow(regions, cmap='gray')\n",
    "plt.title('Imagen Original')\n",
    "plt.axis('off')\n",
    "\n",
    "# Visualizar el resultado de hit-and-miss\n",
    "plt.subplot(1, 2, 2)\n",
    "plt.imshow(result, cmap='gray')\n",
    "plt.title('Resultado de Hit and Miss')\n",
    "plt.axis('off')\n",
    "\n",
    "plt.show()\n"
   ]
  },
  {
   "cell_type": "code",
   "execution_count": 3,
   "metadata": {},
   "outputs": [
    {
     "data": {
      "image/png": "[encoded data removed]",
      "text/plain": [
       "<Figure size 640x480 with 2 Axes>"
      ]
     },
     "metadata": {},
     "output_type": "display_data"
    }
   ],
   "source": [
    "# Visualizar la imagen original\n",
    "plt.subplot(1, 2, 1)\n",
    "plt.imshow(template1, cmap='gray')\n",
    "plt.title('Hit')\n",
    "\n",
    "# Visualizar el resultado de hit-and-miss\n",
    "plt.subplot(1, 2, 2)\n",
    "plt.imshow(template2, cmap='gray')\n",
    "plt.title('Miss')\n",
    "\n",
    "plt.show()"
   ]
  },
  {
   "cell_type": "markdown",
   "metadata": {},
   "source": [
    "El elemento estructurante para \"hit\" estaba diseñado para detectar el rectángulo blanco a la derecha. El elemento estructurante para \"miss\" estaba diseñado para detectar el fondo o el espacio donde no se desea que haya coincidencias, típicamente alrededor de la estructura que se busca con el \"hit\". \n",
    "\n",
    "En la imagen de resultado de Hit and Miss, se muestra un pequeño cuadrado blanco en la parte inferior derecha. Este resultado tiene sentido si consideramos la forma y el tamaño de los elementos estructurantes utilizados en el operador Hit and Miss y cómo estos interactúan con la imagen original.\n",
    "\n",
    "El cuadrado blanco en el resultado indica la única posición en la imagen original donde el elemento estructurante de \"hit\" encontró una coincidencia exacta (todos los píxeles donde B1 tiene unos coinciden con unos en la imagen original) y el elemento estructurante de \"miss\" también encontró una coincidencia exacta en el complemento de la imagen (todos los píxeles donde B2 tiene unos coinciden con ceros en la imagen original). Esto significa que en esa posición específica, el patrón de la imagen original coincide exactamente con el patrón que el operador Hit and Miss estaba diseñado para detectar."
   ]
  }
 ],
 "metadata": {
  "kernelspec": {
   "display_name": "Python 3",
   "language": "python",
   "name": "python3"
  },
  "language_info": {
   "codemirror_mode": {
    "name": "ipython",
    "version": 3
   },
   "file_extension": ".py",
   "mimetype": "text/x-python",
   "name": "python",
   "nbconvert_exporter": "python",
   "pygments_lexer": "ipython3",
   "version": "3.11.0"
  }
 },
 "nbformat": 4,
 "nbformat_minor": 2
}
